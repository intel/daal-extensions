{
 "cells": [
  {
   "cell_type": "markdown",
   "metadata": {},
   "source": [
    "### Importing all dependencies"
   ]
  },
  {
   "cell_type": "code",
   "execution_count": null,
   "metadata": {
    "collapsed": true
   },
   "outputs": [],
   "source": [
    "from pydaalcontrib.nn import *\n",
    "from pydaalcontrib.model.nn import Model, Relu, SigmoidCrossEntropy\n",
    "from daal.algorithms.optimization_solver import adagrad\n",
    "import numpy as np"
   ]
  },
  {
   "cell_type": "markdown",
   "metadata": {},
   "source": [
    "### Definition of a DNN model"
   ]
  },
  {
   "cell_type": "code",
   "execution_count": null,
   "metadata": {
    "collapsed": false
   },
   "outputs": [],
   "source": [
    "x = conv2d([3,3,6], strides=[2,2], paddings=[2,2])\n",
    "x = x(max_pool2d([2,2]))(Relu())(dropout(.5))\n",
    "x = x(conv2d([3,3,12], strides=[2,2], paddings=[2,2]))\n",
    "x = x(max_pool2d([2,2]))(Relu())(dropout(.5))\n",
    "x = x(conv2d([3,3,24], strides=[2,2], paddings=[2,2]))\n",
    "x = x(avg_pool2d([2,2]))(Relu())\n",
    "x = x(fc(10))(lrn())(fc(1))\n",
    "x = x(SigmoidCrossEntropy())\n\n",
    "model = Model(x)"
   ]
  },
  {
   "cell_type": "markdown",
   "metadata": {},
   "source": [
    "### Create superficial data and labels"
   ]
  },
  {
   "cell_type": "code",
   "execution_count": null,
   "metadata": {
    "collapsed": true
   },
   "outputs": [],
   "source": [
    "num_epochs = 10\n",
    "np.random.seed(0)\n",
    "labels = np.append(np.zeros(100), np.ones(100))\n",
    "data = np.random.rand(200, 3, 60, 60)\n",
    "data[:100] = data[:100]*-1"
   ]
  },
  {
   "cell_type": "markdown",
   "metadata": {},
   "source": [
    "### Build a net with the Adagrad solver"
   ]
  },
  {
   "cell_type": "code",
   "execution_count": null,
   "metadata": {
    "collapsed": true
   },
   "outputs": [],
   "source": [
    "net = DAALNet().build(model).with_solver(adagrad.Batch())"
   ]
  },
  {
   "cell_type": "markdown",
   "metadata": {},
   "source": [
    "### Train only for 10 epochs"
   ]
  },
  {
   "cell_type": "code",
   "execution_count": null,
   "metadata": {
    "collapsed": false
   },
   "outputs": [],
   "source": [
    "for i in range(num_epochs):\n",
    "    perm = np.random.permutation(200)\n",
    "    net.train(data[perm], labels[perm], batch_size=10)"
   ]
  },
  {
   "cell_type": "markdown",
   "metadata": {},
   "source": [
    "### Run forward pass again to obtain predictions (class probabilities)"
   ]
  },
  {
   "cell_type": "code",
   "execution_count": null,
   "metadata": {
    "collapsed": false
   },
   "outputs": [],
   "source": [
    "with net.predict(data) as predictions:\n",
    "    predicted = np.all(predictions > 0.5, axis=1)\n",
    "    print('Probabilities  : %s' % np.round(predictions[perm[:10]].ravel(), decimals=3))\n",
    "    print('Predicted class: %s' % predicted[perm[:10]].astype(int))\n",
    "    print('True class     : %s' % labels[perm[:10]].astype(int))"
   ]
  }
 ],
 "metadata": {
  "kernelspec": {
   "display_name": "Python 2",
   "language": "python",
   "name": "python2"
  },
  "language_info": {
   "codemirror_mode": {
    "name": "ipython",
    "version": 2
   },
   "file_extension": ".py",
   "mimetype": "text/x-python",
   "name": "python",
   "nbconvert_exporter": "python",
   "pygments_lexer": "ipython2",
   "version": "2.7.11"
  }
 },
 "nbformat": 4,
 "nbformat_minor": 0
}
